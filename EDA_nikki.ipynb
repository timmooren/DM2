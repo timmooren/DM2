{
 "cells": [
  {
   "cell_type": "code",
   "execution_count": 1,
   "metadata": {},
   "outputs": [],
   "source": [
    "# imports\n",
    "import pandas as pd\n",
    "import seaborn as sns\n",
    "import matplotlib.pyplot as plt\n"
   ]
  },
  {
   "cell_type": "code",
   "execution_count": 6,
   "metadata": {},
   "outputs": [],
   "source": [
    "# load training data\n",
    "df = pd.read_csv('data/training_set_VU_DM.csv')"
   ]
  },
  {
   "cell_type": "code",
   "execution_count": null,
   "metadata": {},
   "outputs": [],
   "source": [
    "df"
   ]
  },
  {
   "cell_type": "code",
   "execution_count": null,
   "metadata": {},
   "outputs": [],
   "source": [
    "#df\n",
    "\n",
    "pd.set_option('display.float_format', lambda x: '%.2f' % x)\n",
    "# df.describe().loc[['min', 'max'], :].transpose()\n",
    "df.describe().transpose()"
   ]
  },
  {
   "cell_type": "code",
   "execution_count": null,
   "metadata": {},
   "outputs": [],
   "source": [
    "df.isnull().sum()\n",
    "#df.columns[df.isna().any()].tolist()"
   ]
  },
  {
   "cell_type": "code",
   "execution_count": null,
   "metadata": {},
   "outputs": [],
   "source": [
    "# number of unique values over all columns\n",
    "df.nunique()"
   ]
  },
  {
   "attachments": {},
   "cell_type": "markdown",
   "metadata": {},
   "source": [
    "Features engineering and removal"
   ]
  },
  {
   "cell_type": "code",
   "execution_count": 12,
   "metadata": {},
   "outputs": [],
   "source": [
    "# imports\n",
    "import pandas as pd\n",
    "import seaborn as sns\n",
    "import matplotlib.pyplot as plt\n",
    "# load training data\n",
    "df = pd.read_csv('data/training_set_VU_DM.csv')"
   ]
  },
  {
   "cell_type": "code",
   "execution_count": 3,
   "metadata": {},
   "outputs": [],
   "source": [
    "from functions import comp_aggregation, remove_variables, impute_linear, impute_knn\n",
    "\n",
    "df = comp_aggregation(df)\n",
    "df = remove_variables(df)\n",
    "df = impute_linear(df)"
   ]
  },
  {
   "cell_type": "code",
   "execution_count": null,
   "metadata": {},
   "outputs": [],
   "source": [
    "\n",
    "df.isnull().sum()"
   ]
  },
  {
   "cell_type": "code",
   "execution_count": 30,
   "metadata": {},
   "outputs": [
    {
     "name": "stdout",
     "output_type": "stream",
     "text": [
      "prop_location_score1 has 0 outliers\n",
      "prop_location_score2 has 0 outliers\n",
      "prop_log_historical_price has 0 outliers\n",
      "price_usd has 7100 outliers\n",
      "srch_length_of_stay has 0 outliers\n",
      "srch_booking_window has 0 outliers\n",
      "srch_adults_count has 1712113 outliers\n",
      "srch_children_count has 1146573 outliers\n",
      "srch_room_count has 438135 outliers\n",
      "orig_destination_distance has 57 outliers\n",
      "comp_rate_ratio has 1214187 outliers\n",
      "comp_inv_ratio has 1214187 outliers\n"
     ]
    }
   ],
   "source": [
    "from scipy.stats import boxcox\n",
    "columns_to_check = [\n",
    "    'prop_location_score1',\n",
    "    'prop_location_score2',\n",
    "    'prop_log_historical_price',\n",
    "    'price_usd',\n",
    "    'srch_length_of_stay',\n",
    "    'srch_booking_window',\n",
    "    'srch_adults_count',\n",
    "    'srch_children_count',\n",
    "    'srch_room_count',\n",
    "    'orig_destination_distance',\n",
    "    'comp_rate_ratio',\n",
    "    'comp_inv_ratio'\n",
    "]\n",
    "\n",
    "for column in columns_to_check:\n",
    "    # make negative values positive\n",
    "    df[column] = df[column] - df[column].min() + 1\n",
    "    transformed = pd.Series(boxcox(df[column])[0])\n",
    "    # use iqr to remove outliers\n",
    "    Q1 = transformed.quantile(0.25)\n",
    "    Q3 = transformed.quantile(0.75)\n",
    "    IQR = Q3 - Q1\n",
    "    # use 3 for extreme outliers\n",
    "    lower_bound = Q1 - 3 * IQR\n",
    "    upper_bound = Q3 + 3 * IQR\n",
    "\n",
    "    # get index of outliers in transformed\n",
    "    outliers = transformed[(transformed < lower_bound) | (transformed > upper_bound)].index\n",
    "\n",
    "    print(f'{column} has {len(outliers)} outliers')\n",
    "  \n"
   ]
  },
  {
   "cell_type": "code",
   "execution_count": 10,
   "metadata": {},
   "outputs": [
    {
     "name": "stdout",
     "output_type": "stream",
     "text": [
      "Index(['srch_id', 'site_id', 'visitor_location_country_id', 'prop_country_id',\n",
      "       'prop_id', 'prop_starrating', 'prop_review_score', 'prop_brand_bool',\n",
      "       'prop_location_score1', 'prop_location_score2',\n",
      "       'prop_log_historical_price', 'position', 'price_usd', 'promotion_flag',\n",
      "       'srch_destination_id', 'srch_length_of_stay', 'srch_booking_window',\n",
      "       'srch_adults_count', 'srch_children_count', 'srch_room_count',\n",
      "       'srch_saturday_night_bool', 'orig_destination_distance', 'random_bool',\n",
      "       'click_bool', 'gross_bookings_usd', 'booking_bool', 'comp_rate_ratio',\n",
      "       'comp_inv_ratio'],\n",
      "      dtype='object')\n",
      "[16:31:13] WARNING: C:\\buildkite-agent\\builds\\buildkite-windows-cpu-autoscaling-group-i-07593ffd91cd9da33-1\\xgboost\\xgboost-ci-windows\\src\\learner.cc:767: \n",
      "Parameters: { \"silent\" } are not used.\n",
      "\n",
      "NDCG score: 0.9538586752551853\n"
     ]
    }
   ],
   "source": [
    "import xgboost as xgb\n",
    "from sklearn.datasets import dump_svmlight_file\n",
    "from sklearn.datasets import load_svmlight_file\n",
    "from sklearn.model_selection import train_test_split\n",
    "from sklearn.metrics import ndcg_score\n",
    "\n",
    "df.drop(columns=\"date_time\", inplace=True)\n",
    "df.drop(columns=\"gross_bookings_usd\", inplace=True)\n",
    "\n",
    "# predict position?\n",
    "X = df.drop('position', axis=1)\n",
    "y = df['position']\n",
    "X_train, X_test, y_train, y_test = train_test_split(X, y, test_size=0.2, random_state=42)\n",
    "\n",
    "# Convert the training data to SVMLight format\n",
    "dump_svmlight_file(X_train, y_train, 'train.txt')\n",
    "\n",
    "# Convert the testing data to SVMLight format\n",
    "dump_svmlight_file(X_test, y_test, 'test.txt')\n",
    "\n",
    "dtrain = xgb.DMatrix('train.txt')\n",
    "\n",
    "# Set LambdaMART parameters\n",
    "params = {\n",
    "    'objective': 'rank:ndcg',\n",
    "    'eval_metric': 'ndcg@1-5',\n",
    "    'eta': 0.1,\n",
    "    'max_depth': 6,\n",
    "    'min_child_weight': 1,\n",
    "    'gamma': 0,\n",
    "    'subsample': 0.8,\n",
    "    'colsample_bytree': 0.8,\n",
    "    'lambda': 1,\n",
    "    'alpha': 0,\n",
    "    'silent': 1,\n",
    "    'nthread': 4\n",
    "}\n",
    "\n",
    "# Train the LambdaMART model using XGBoost\n",
    "model = xgb.train(params, dtrain, num_boost_round=100)\n",
    "\n",
    "# Load the testing data from the SVMLight file\n",
    "dtest = xgb.DMatrix('test.txt')\n",
    "\n",
    "# Make predictions using the trained LambdaMART model\n",
    "y_pred = model.predict(dtest)\n",
    "\n",
    "# Calculate NDCG score\n",
    "ndcg = ndcg_score([y_test], [y_pred])\n",
    "\n",
    "print(\"NDCG score:\", ndcg)\n",
    "\n",
    "# add predicted values to df\n",
    "df['predicted_position'] = y_pred\n"
   ]
  }
 ],
 "metadata": {
  "kernelspec": {
   "display_name": "Python 3",
   "language": "python",
   "name": "python3"
  },
  "language_info": {
   "codemirror_mode": {
    "name": "ipython",
    "version": 3
   },
   "file_extension": ".py",
   "mimetype": "text/x-python",
   "name": "python",
   "nbconvert_exporter": "python",
   "pygments_lexer": "ipython3",
   "version": "3.9.13"
  },
  "orig_nbformat": 4
 },
 "nbformat": 4,
 "nbformat_minor": 2
}
